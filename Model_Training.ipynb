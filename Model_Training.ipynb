{
 "cells": [
  {
   "attachments": {},
   "cell_type": "markdown",
   "metadata": {},
   "source": [
    "This notebook displays the process of training the ML model"
   ]
  },
  {
   "cell_type": "code",
   "execution_count": 10,
   "metadata": {},
   "outputs": [],
   "source": [
    "import numpy as np\n",
    "import pandas as pd\n",
    "from sklearn.ensemble import RandomForestClassifier, AdaBoostClassifier, GradientBoostingClassifier\n",
    "from sklearn.model_selection import cross_val_score, train_test_split\n",
    "from sklearn.metrics import accuracy_score\n",
    "import os\n",
    "from joblib import load\n",
    "os.environ['KMP_DUPLICATE_LIB_OK']='True'"
   ]
  },
  {
   "cell_type": "code",
   "execution_count": 5,
   "metadata": {},
   "outputs": [],
   "source": [
    "data = pd.read_csv(\"./ACME-HappinessSurvey2020.csv\")\n",
    "y = data[\"Y\"]\n",
    "columns  = list(data.columns)\n",
    "columns.remove(\"Y\")\n",
    "X = data[columns]"
   ]
  },
  {
   "attachments": {},
   "cell_type": "markdown",
   "metadata": {},
   "source": [
    "### Model Training\n",
    "\n",
    "We train a gradient boosting classifier for this task on all of the data"
   ]
  },
  {
   "cell_type": "code",
   "execution_count": 14,
   "metadata": {},
   "outputs": [
    {
     "name": "stdout",
     "output_type": "stream",
     "text": [
      "0.9365079365079365\n"
     ]
    }
   ],
   "source": [
    "gbc = GradientBoostingClassifier(n_estimators=100, learning_rate=1.1, min_samples_leaf=12,random_state=5)\n",
    "gbc = gbc.fit(X, y)\n",
    "train_preds = gbc.predict(X)\n",
    "acc_score = accuracy_score(y, train_preds)\n",
    "print(acc_score)"
   ]
  },
  {
   "attachments": {},
   "cell_type": "markdown",
   "metadata": {},
   "source": [
    "The model achieves a great accuracy score when evaluated on the training data. To prevent overfitting the minimum samples per leaf class is set to a higher value."
   ]
  },
  {
   "cell_type": "code",
   "execution_count": 7,
   "metadata": {},
   "outputs": [
    {
     "data": {
      "text/plain": [
       "0.6428571428571428"
      ]
     },
     "execution_count": 7,
     "metadata": {},
     "output_type": "execute_result"
    }
   ],
   "source": [
    "gbc = GradientBoostingClassifier(n_estimators=100, learning_rate=1.1, min_samples_leaf=12,random_state=5)\n",
    "val_scores_gbc = cross_val_score(gbc, X, y, scoring=\"accuracy\", cv=6)\n",
    "np.mean(val_scores_gbc)"
   ]
  },
  {
   "attachments": {},
   "cell_type": "markdown",
   "metadata": {},
   "source": [
    "When the same model run for cross validation using 6-fold cross validation, it achieves a 64% accuracy score, given the data, this is the best that could be achieved."
   ]
  },
  {
   "attachments": {},
   "cell_type": "markdown",
   "metadata": {},
   "source": [
    "#### Evaluate \n",
    "\n",
    "To evaluate this model, having run the training cell, simply load your data and run the cell below"
   ]
  },
  {
   "cell_type": "code",
   "execution_count": 11,
   "metadata": {},
   "outputs": [],
   "source": [
    "#Load the trained model\n",
    "gbc = load('gbc.joblib')"
   ]
  },
  {
   "cell_type": "code",
   "execution_count": null,
   "metadata": {},
   "outputs": [],
   "source": [
    "test_data = pd.read_csv(\"test_data_file_path_here\")\n",
    "test_y = test_data[\"Y\"]\n",
    "columns  = list(test_data.columns)\n",
    "columns.remove(\"Y\")\n",
    "test_X = test_data[columns]\n",
    "\n",
    "test_preds = gbc.predict(test_X)\n",
    "test_acc_score = accuracy_score(test_y, test_preds)\n",
    "print(test_acc_score)"
   ]
  }
 ],
 "metadata": {
  "kernelspec": {
   "display_name": "tf",
   "language": "python",
   "name": "python3"
  },
  "language_info": {
   "codemirror_mode": {
    "name": "ipython",
    "version": 3
   },
   "file_extension": ".py",
   "mimetype": "text/x-python",
   "name": "python",
   "nbconvert_exporter": "python",
   "pygments_lexer": "ipython3",
   "version": "3.7.13"
  },
  "orig_nbformat": 4
 },
 "nbformat": 4,
 "nbformat_minor": 2
}
