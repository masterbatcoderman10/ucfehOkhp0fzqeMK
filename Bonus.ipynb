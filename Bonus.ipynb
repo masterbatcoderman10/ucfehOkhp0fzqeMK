{
 "cells": [
  {
   "attachments": {},
   "cell_type": "markdown",
   "metadata": {},
   "source": [
    "The following class is used to calculate the mutual information between each class and the target variable."
   ]
  },
  {
   "cell_type": "code",
   "execution_count": 2,
   "metadata": {},
   "outputs": [],
   "source": [
    "import numpy as np\n",
    "import pandas as pd\n",
    "\n",
    "\n",
    "class CategoricalMI:\n",
    "\n",
    "    def __init__(self, data, target_name, feature_names):\n",
    "\n",
    "        self.y = data[target_name]\n",
    "        self.feature_names = feature_names\n",
    "        self.X = data[feature_names]\n",
    "        self.X = self.X.astype(str)\n",
    "        self.y = self.y.astype(str)\n",
    "        self.nrows = len(self.X)\n",
    "        self.mis = {}\n",
    "\n",
    "\n",
    "    def joint_entropy(self, x, y, p):\n",
    "        sum = 0\n",
    "        for x in range(x):\n",
    "            for y in range(y):\n",
    "                if p[x][y] == 0:\n",
    "\n",
    "                    continue\n",
    "                sum += -(p[x][y] * np.log2((p[x][y])))\n",
    "\n",
    "        return sum\n",
    "\n",
    "    def entropy(self, x):\n",
    "\n",
    "        sum = 0\n",
    "        for i in x:\n",
    "            sum -= i * np.log2(i)\n",
    "        return sum\n",
    "\n",
    "    def creat_joint_pmt(self, fname):\n",
    "\n",
    "        ct = pd.crosstab(self.y, self.X[fname])\n",
    "        jp = np.array(ct)\n",
    "        jp = jp / self.nrows\n",
    "\n",
    "        return jp\n",
    "\n",
    "    def run(self):\n",
    "\n",
    "        mi_scores = []\n",
    "\n",
    "        for fname in self.feature_names:\n",
    "\n",
    "            jpmf = self.creat_joint_pmt(fname)\n",
    "            h_x_y = self.joint_entropy(jpmf.shape[0], jpmf.shape[1], jpmf)\n",
    "\n",
    "            xpmf = jpmf.sum(axis=0)\n",
    "            ypmf = jpmf.sum(axis=1)\n",
    "\n",
    "            h_x = self.entropy(xpmf)\n",
    "            h_y = self.entropy(ypmf)\n",
    "\n",
    "            cond_x_y = h_x_y - h_y\n",
    "            cond_y_x = h_x_y - h_x\n",
    "\n",
    "            i_x_y = h_x - cond_x_y\n",
    "\n",
    "            mi_scores.append(i_x_y)\n",
    "        \n",
    "        mi_scores = sorted(zip(mi_scores, self.feature_names), key=lambda x : x[0], reverse=True)\n",
    "        self.mis = {fn: mi for mi, fn in mi_scores}\n",
    "\n",
    "    def report(self):\n",
    "\n",
    "        for fname, mi in self.mis.items():\n",
    "            \n",
    "            print(f\"{fname} mutual information with target : {mi}\")\n"
   ]
  },
  {
   "cell_type": "code",
   "execution_count": 3,
   "metadata": {},
   "outputs": [],
   "source": [
    "data = pd.read_csv(\"./ACME-HappinessSurvey2020.csv\")"
   ]
  },
  {
   "cell_type": "code",
   "execution_count": 4,
   "metadata": {},
   "outputs": [],
   "source": [
    "feature_names = ['X1', 'X2', 'X3', 'X4', 'X5', 'X6']"
   ]
  },
  {
   "cell_type": "code",
   "execution_count": 5,
   "metadata": {},
   "outputs": [],
   "source": [
    "cat_mi = CategoricalMI(data, \"Y\", feature_names)"
   ]
  },
  {
   "cell_type": "code",
   "execution_count": 6,
   "metadata": {},
   "outputs": [],
   "source": [
    "cat_mi.run()"
   ]
  },
  {
   "attachments": {},
   "cell_type": "markdown",
   "metadata": {},
   "source": [
    "The following cell displays the features and their associated mutual information with the target variable in descending order."
   ]
  },
  {
   "cell_type": "code",
   "execution_count": 7,
   "metadata": {},
   "outputs": [
    {
     "name": "stdout",
     "output_type": "stream",
     "text": [
      "X1 mutual information with target : 0.6022187855318999\n",
      "X6 mutual information with target : 0.5646106714581822\n",
      "X5 mutual information with target : 0.4794815437913742\n",
      "X4 mutual information with target : 0.39708921405515984\n",
      "X3 mutual information with target : 0.3322625056186468\n",
      "X2 mutual information with target : 0.17166808026614677\n"
     ]
    }
   ],
   "source": [
    "cat_mi.report()"
   ]
  },
  {
   "cell_type": "code",
   "execution_count": null,
   "metadata": {},
   "outputs": [],
   "source": []
  }
 ],
 "metadata": {
  "kernelspec": {
   "display_name": "tf",
   "language": "python",
   "name": "python3"
  },
  "language_info": {
   "codemirror_mode": {
    "name": "ipython",
    "version": 3
   },
   "file_extension": ".py",
   "mimetype": "text/x-python",
   "name": "python",
   "nbconvert_exporter": "python",
   "pygments_lexer": "ipython3",
   "version": "3.7.13"
  },
  "orig_nbformat": 4
 },
 "nbformat": 4,
 "nbformat_minor": 2
}
